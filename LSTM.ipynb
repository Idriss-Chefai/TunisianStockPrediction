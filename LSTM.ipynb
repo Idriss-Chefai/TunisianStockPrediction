{
 "cells": [
  {
   "cell_type": "code",
   "execution_count": 1,
   "id": "e52f6564-bb69-4a73-a0c8-59654de8016e",
   "metadata": {},
   "outputs": [],
   "source": [
    "import pandas as pd \n",
    "import json\n",
    "import numpy as np"
   ]
  },
  {
   "cell_type": "code",
   "execution_count": 2,
   "id": "0bcf0c8a-e61a-435f-81dc-9b5d99382de4",
   "metadata": {},
   "outputs": [],
   "source": [
    "#Lecture des données\n",
    "tunisian_stock_market = 'Tunisian-Stock-Market.json'\n",
    "with open(tunisian_stock_market, 'r') as json_file:\n",
    "    \n",
    "    json_data = json.load(json_file)\n",
    "TunisianStockMarket = pd.DataFrame(json_data)"
   ]
  },
  {
   "cell_type": "code",
   "execution_count": 3,
   "id": "cb35b463-ff07-4ec9-96c2-0fec6c2d4d7a",
   "metadata": {},
   "outputs": [],
   "source": [
    "#Choix d'une seule action(BNA dans notre cas)\n",
    "TunisianStockMarket['Date'] = pd.to_datetime(TunisianStockMarket['Date'])\n",
    "bna_data = TunisianStockMarket[TunisianStockMarket['Stock_name'] == 'BNA']"
   ]
  },
  {
   "cell_type": "code",
   "execution_count": 4,
   "id": "0b05c453-8760-43e5-b51c-9a0756b19ea6",
   "metadata": {},
   "outputs": [
    {
     "name": "stdout",
     "output_type": "stream",
     "text": [
      "             Date  Adj_Close  Adj_low  Adj_High         Volume\n",
      "62     2021-11-04      7.320    7.220     7.320    6137.930176\n",
      "141    2021-11-03      7.320    7.100     7.320   34433.000000\n",
      "220    2021-11-02      7.310    7.200     7.320   24964.289062\n",
      "299    2021-11-01      7.320    7.200     7.340    5781.819824\n",
      "378    2021-10-29      7.340    7.300     7.340    6610.660156\n",
      "...           ...        ...      ...       ...            ...\n",
      "198646 2011-01-07     11.305   11.210    11.320   52695.449219\n",
      "198702 2011-01-06     11.283   11.173    11.393   43161.000000\n",
      "198758 2011-01-05     11.349   10.989    11.349   86125.226562\n",
      "198814 2011-01-04     11.129   10.952    11.129  105979.023438\n",
      "198870 2011-01-03     11.173   10.952    11.298    1721.199951\n",
      "\n",
      "[2689 rows x 5 columns]\n"
     ]
    }
   ],
   "source": [
    "#Filtrage des colonnes non utile\n",
    "columnsToExclude = ['Code_isin','Stock_name']\n",
    "TunisianStockMarketFiltred = bna_data.drop(columns=columnsToExclude)\n",
    "filtered_data = TunisianStockMarketFiltred[TunisianStockMarketFiltred['Date'].dt.year.isin([2020, 2021])]\n",
    "print(TunisianStockMarketFiltred)"
   ]
  },
  {
   "cell_type": "code",
   "execution_count": 5,
   "id": "3f0ae2e3-f7f0-49ee-a9cc-6b770f48b38a",
   "metadata": {},
   "outputs": [],
   "source": [
    "#Function to make date format to datetime\n",
    "import datetime\n",
    "def str_to_datetime(s):\n",
    "    split = s.split('-')\n",
    "    year , month , day = int(split[0]) , int(split[1]) , int(split[2])\n",
    "    return datetime.datetime(year=year , month=month , day=day)"
   ]
  },
  {
   "cell_type": "code",
   "execution_count": 6,
   "id": "1add16b7",
   "metadata": {},
   "outputs": [],
   "source": [
    "#TunisianStockMarketFiltred['Date'] = TunisianStockMarketFiltred['Date'].apply(str_to_datetime)\n",
    "#TunisianStockMarketFiltred['Date']"
   ]
  },
  {
   "cell_type": "code",
   "execution_count": 7,
   "id": "ae3981b5-880a-4f39-9e30-efec9de5bb49",
   "metadata": {},
   "outputs": [
    {
     "data": {
      "text/html": [
       "<div>\n",
       "<style scoped>\n",
       "    .dataframe tbody tr th:only-of-type {\n",
       "        vertical-align: middle;\n",
       "    }\n",
       "\n",
       "    .dataframe tbody tr th {\n",
       "        vertical-align: top;\n",
       "    }\n",
       "\n",
       "    .dataframe thead th {\n",
       "        text-align: right;\n",
       "    }\n",
       "</style>\n",
       "<table border=\"1\" class=\"dataframe\">\n",
       "  <thead>\n",
       "    <tr style=\"text-align: right;\">\n",
       "      <th></th>\n",
       "      <th>Adj_Close</th>\n",
       "      <th>Adj_low</th>\n",
       "      <th>Adj_High</th>\n",
       "      <th>Volume</th>\n",
       "    </tr>\n",
       "    <tr>\n",
       "      <th>Date</th>\n",
       "      <th></th>\n",
       "      <th></th>\n",
       "      <th></th>\n",
       "      <th></th>\n",
       "    </tr>\n",
       "  </thead>\n",
       "  <tbody>\n",
       "    <tr>\n",
       "      <th>2021-11-04</th>\n",
       "      <td>7.320</td>\n",
       "      <td>7.220</td>\n",
       "      <td>7.320</td>\n",
       "      <td>6137.930176</td>\n",
       "    </tr>\n",
       "    <tr>\n",
       "      <th>2021-11-03</th>\n",
       "      <td>7.320</td>\n",
       "      <td>7.100</td>\n",
       "      <td>7.320</td>\n",
       "      <td>34433.000000</td>\n",
       "    </tr>\n",
       "    <tr>\n",
       "      <th>2021-11-02</th>\n",
       "      <td>7.310</td>\n",
       "      <td>7.200</td>\n",
       "      <td>7.320</td>\n",
       "      <td>24964.289062</td>\n",
       "    </tr>\n",
       "    <tr>\n",
       "      <th>2021-11-01</th>\n",
       "      <td>7.320</td>\n",
       "      <td>7.200</td>\n",
       "      <td>7.340</td>\n",
       "      <td>5781.819824</td>\n",
       "    </tr>\n",
       "    <tr>\n",
       "      <th>2021-10-29</th>\n",
       "      <td>7.340</td>\n",
       "      <td>7.300</td>\n",
       "      <td>7.340</td>\n",
       "      <td>6610.660156</td>\n",
       "    </tr>\n",
       "    <tr>\n",
       "      <th>...</th>\n",
       "      <td>...</td>\n",
       "      <td>...</td>\n",
       "      <td>...</td>\n",
       "      <td>...</td>\n",
       "    </tr>\n",
       "    <tr>\n",
       "      <th>2011-01-07</th>\n",
       "      <td>11.305</td>\n",
       "      <td>11.210</td>\n",
       "      <td>11.320</td>\n",
       "      <td>52695.449219</td>\n",
       "    </tr>\n",
       "    <tr>\n",
       "      <th>2011-01-06</th>\n",
       "      <td>11.283</td>\n",
       "      <td>11.173</td>\n",
       "      <td>11.393</td>\n",
       "      <td>43161.000000</td>\n",
       "    </tr>\n",
       "    <tr>\n",
       "      <th>2011-01-05</th>\n",
       "      <td>11.349</td>\n",
       "      <td>10.989</td>\n",
       "      <td>11.349</td>\n",
       "      <td>86125.226562</td>\n",
       "    </tr>\n",
       "    <tr>\n",
       "      <th>2011-01-04</th>\n",
       "      <td>11.129</td>\n",
       "      <td>10.952</td>\n",
       "      <td>11.129</td>\n",
       "      <td>105979.023438</td>\n",
       "    </tr>\n",
       "    <tr>\n",
       "      <th>2011-01-03</th>\n",
       "      <td>11.173</td>\n",
       "      <td>10.952</td>\n",
       "      <td>11.298</td>\n",
       "      <td>1721.199951</td>\n",
       "    </tr>\n",
       "  </tbody>\n",
       "</table>\n",
       "<p>2689 rows × 4 columns</p>\n",
       "</div>"
      ],
      "text/plain": [
       "            Adj_Close  Adj_low  Adj_High         Volume\n",
       "Date                                                   \n",
       "2021-11-04      7.320    7.220     7.320    6137.930176\n",
       "2021-11-03      7.320    7.100     7.320   34433.000000\n",
       "2021-11-02      7.310    7.200     7.320   24964.289062\n",
       "2021-11-01      7.320    7.200     7.340    5781.819824\n",
       "2021-10-29      7.340    7.300     7.340    6610.660156\n",
       "...               ...      ...       ...            ...\n",
       "2011-01-07     11.305   11.210    11.320   52695.449219\n",
       "2011-01-06     11.283   11.173    11.393   43161.000000\n",
       "2011-01-05     11.349   10.989    11.349   86125.226562\n",
       "2011-01-04     11.129   10.952    11.129  105979.023438\n",
       "2011-01-03     11.173   10.952    11.298    1721.199951\n",
       "\n",
       "[2689 rows x 4 columns]"
      ]
     },
     "execution_count": 7,
     "metadata": {},
     "output_type": "execute_result"
    }
   ],
   "source": [
    "TunisianStockMarketFiltred.index = TunisianStockMarketFiltred.pop('Date')\n",
    "TunisianStockMarketFiltred"
   ]
  },
  {
   "cell_type": "code",
   "execution_count": 8,
   "id": "25eda64c-87bc-42c8-96d1-30eb481a3398",
   "metadata": {},
   "outputs": [
    {
     "data": {
      "text/plain": [
       "[<matplotlib.lines.Line2D at 0x215e57e8f80>]"
      ]
     },
     "execution_count": 8,
     "metadata": {},
     "output_type": "execute_result"
    },
    {
     "data": {
      "image/png": "[encoded data removed]",
      "text/plain": [
       "<Figure size 640x480 with 1 Axes>"
      ]
     },
     "metadata": {},
     "output_type": "display_data"
    }
   ],
   "source": [
    "import matplotlib.pyplot as plt \n",
    "\n",
    "plt.plot(TunisianStockMarketFiltred.index , TunisianStockMarketFiltred['Adj_Close'])"
   ]
  },
  {
   "cell_type": "code",
   "execution_count": 15,
   "id": "28f5b7ce",
   "metadata": {},
   "outputs": [
    {
     "data": {
      "text/html": [
       "<div>\n",
       "<style scoped>\n",
       "    .dataframe tbody tr th:only-of-type {\n",
       "        vertical-align: middle;\n",
       "    }\n",
       "\n",
       "    .dataframe tbody tr th {\n",
       "        vertical-align: top;\n",
       "    }\n",
       "\n",
       "    .dataframe thead th {\n",
       "        text-align: right;\n",
       "    }\n",
       "</style>\n",
       "<table border=\"1\" class=\"dataframe\">\n",
       "  <thead>\n",
       "    <tr style=\"text-align: right;\">\n",
       "      <th></th>\n",
       "      <th>Target-3</th>\n",
       "      <th>Target-2</th>\n",
       "      <th>Target-1</th>\n",
       "      <th>Target</th>\n",
       "    </tr>\n",
       "    <tr>\n",
       "      <th>Date</th>\n",
       "      <th></th>\n",
       "      <th></th>\n",
       "      <th></th>\n",
       "      <th></th>\n",
       "    </tr>\n",
       "  </thead>\n",
       "  <tbody>\n",
       "    <tr>\n",
       "      <th>2011-01-03</th>\n",
       "      <td>11.283</td>\n",
       "      <td>11.349</td>\n",
       "      <td>11.129</td>\n",
       "      <td>11.173</td>\n",
       "    </tr>\n",
       "    <tr>\n",
       "      <th>2011-01-04</th>\n",
       "      <td>11.305</td>\n",
       "      <td>11.283</td>\n",
       "      <td>11.349</td>\n",
       "      <td>11.129</td>\n",
       "    </tr>\n",
       "    <tr>\n",
       "      <th>2011-01-05</th>\n",
       "      <td>11.232</td>\n",
       "      <td>11.305</td>\n",
       "      <td>11.283</td>\n",
       "      <td>11.349</td>\n",
       "    </tr>\n",
       "    <tr>\n",
       "      <th>2011-01-06</th>\n",
       "      <td>10.857</td>\n",
       "      <td>11.232</td>\n",
       "      <td>11.305</td>\n",
       "      <td>11.283</td>\n",
       "    </tr>\n",
       "    <tr>\n",
       "      <th>2011-01-07</th>\n",
       "      <td>10.372</td>\n",
       "      <td>10.857</td>\n",
       "      <td>11.232</td>\n",
       "      <td>11.305</td>\n",
       "    </tr>\n",
       "    <tr>\n",
       "      <th>...</th>\n",
       "      <td>...</td>\n",
       "      <td>...</td>\n",
       "      <td>...</td>\n",
       "      <td>...</td>\n",
       "    </tr>\n",
       "    <tr>\n",
       "      <th>2021-10-26</th>\n",
       "      <td>7.340</td>\n",
       "      <td>7.300</td>\n",
       "      <td>7.300</td>\n",
       "      <td>7.330</td>\n",
       "    </tr>\n",
       "    <tr>\n",
       "      <th>2021-10-27</th>\n",
       "      <td>7.320</td>\n",
       "      <td>7.340</td>\n",
       "      <td>7.300</td>\n",
       "      <td>7.300</td>\n",
       "    </tr>\n",
       "    <tr>\n",
       "      <th>2021-10-28</th>\n",
       "      <td>7.310</td>\n",
       "      <td>7.320</td>\n",
       "      <td>7.340</td>\n",
       "      <td>7.300</td>\n",
       "    </tr>\n",
       "    <tr>\n",
       "      <th>2021-10-29</th>\n",
       "      <td>7.320</td>\n",
       "      <td>7.310</td>\n",
       "      <td>7.320</td>\n",
       "      <td>7.340</td>\n",
       "    </tr>\n",
       "    <tr>\n",
       "      <th>2021-11-01</th>\n",
       "      <td>7.320</td>\n",
       "      <td>7.320</td>\n",
       "      <td>7.310</td>\n",
       "      <td>7.320</td>\n",
       "    </tr>\n",
       "  </tbody>\n",
       "</table>\n",
       "<p>2686 rows × 4 columns</p>\n",
       "</div>"
      ],
      "text/plain": [
       "            Target-3  Target-2  Target-1  Target\n",
       "Date                                            \n",
       "2011-01-03    11.283    11.349    11.129  11.173\n",
       "2011-01-04    11.305    11.283    11.349  11.129\n",
       "2011-01-05    11.232    11.305    11.283  11.349\n",
       "2011-01-06    10.857    11.232    11.305  11.283\n",
       "2011-01-07    10.372    10.857    11.232  11.305\n",
       "...              ...       ...       ...     ...\n",
       "2021-10-26     7.340     7.300     7.300   7.330\n",
       "2021-10-27     7.320     7.340     7.300   7.300\n",
       "2021-10-28     7.310     7.320     7.340   7.300\n",
       "2021-10-29     7.320     7.310     7.320   7.340\n",
       "2021-11-01     7.320     7.320     7.310   7.320\n",
       "\n",
       "[2686 rows x 4 columns]"
      ]
     },
     "execution_count": 15,
     "metadata": {},
     "output_type": "execute_result"
    }
   ],
   "source": [
    "#Create windowed data every 3 days\n",
    "def window_data(data, n=3):\n",
    "    windowed_data = pd.DataFrame()\n",
    "    for i in range(n, 0, -1):\n",
    "        windowed_data[f'Target-{i}'] = data['Adj_Close'].shift(i)\n",
    "    windowed_data['Target'] = data['Adj_Close']\n",
    "    return windowed_data.dropna()\n",
    "\n",
    "\n",
    "windowed_data = window_data(TunisianStockMarketFiltred, n = 3)\n",
    "windowed_data.sort_index(inplace=True, ascending=True)\n",
    "windowed_data"
   ]
  },
  {
   "cell_type": "code",
   "execution_count": 16,
   "id": "58b7b5ca",
   "metadata": {},
   "outputs": [
    {
     "data": {
      "text/plain": [
       "((2686,), (2686, 3, 1), (2686,))"
      ]
     },
     "execution_count": 16,
     "metadata": {},
     "output_type": "execute_result"
    }
   ],
   "source": [
    "def windowed_df_to_date_X_y(windowed_dataframe):\n",
    "  df_as_np = windowed_dataframe.to_numpy()\n",
    "\n",
    "  dates = windowed_dataframe.index.values\n",
    "\n",
    "  middle_matrix = df_as_np[:, 0:-1]\n",
    "  X = middle_matrix.reshape((len(dates), middle_matrix.shape[1], 1))\n",
    "\n",
    "  Y = df_as_np[:, -1]\n",
    "\n",
    "  return dates, X.astype(np.float32), Y.astype(np.float32)\n",
    "\n",
    "dates, X, y = windowed_df_to_date_X_y(windowed_data)\n",
    "\n",
    "dates.shape, X.shape, y.shape\n"
   ]
  },
  {
   "cell_type": "code",
   "execution_count": 17,
   "id": "83059835",
   "metadata": {},
   "outputs": [
    {
     "data": {
      "text/plain": [
       "<matplotlib.legend.Legend at 0x215e59939e0>"
      ]
     },
     "execution_count": 17,
     "metadata": {},
     "output_type": "execute_result"
    },
    {
     "data": {
      "image/png": "[encoded data removed]",
      "text/plain": [
       "<Figure size 640x480 with 1 Axes>"
      ]
     },
     "metadata": {},
     "output_type": "display_data"
    }
   ],
   "source": [
    "q_80 = int(len(dates) * .8)\n",
    "q_90 = int(len(dates) * .9)\n",
    "\n",
    "dates_train, X_train, y_train = dates[:q_80], X[:q_80], y[:q_80]\n",
    "dates_val, X_val, y_val = dates[q_80:q_90], X[q_80:q_90], y[q_80:q_90]\n",
    "dates_test, X_test, y_test = dates[q_90:], X[q_90:], y[q_90:]\n",
    "\n",
    "plt.plot(dates_train, y_train)\n",
    "plt.plot(dates_val, y_val)\n",
    "plt.plot(dates_test, y_test)\n",
    "\n",
    "plt.legend(['Train', 'Validation', 'Test'])"
   ]
  },
  {
   "cell_type": "code",
   "execution_count": null,
   "id": "801ae58e",
   "metadata": {},
   "outputs": [],
   "source": []
  }
 ],
 "metadata": {
  "kernelspec": {
   "display_name": "Python 3 (ipykernel)",
   "language": "python",
   "name": "python3"
  },
  "language_info": {
   "codemirror_mode": {
    "name": "ipython",
    "version": 3
   },
   "file_extension": ".py",
   "mimetype": "text/x-python",
   "name": "python",
   "nbconvert_exporter": "python",
   "pygments_lexer": "ipython3",
   "version": "3.12.0"
  }
 },
 "nbformat": 4,
 "nbformat_minor": 5
}
