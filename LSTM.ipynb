{
 "cells": [
  {
   "cell_type": "code",
   "execution_count": 1,
   "id": "e52f6564-bb69-4a73-a0c8-59654de8016e",
   "metadata": {},
   "outputs": [],
   "source": [
    "import pandas as pd \n",
    "import json\n",
    "import numpy as np"
   ]
  },
  {
   "cell_type": "code",
   "execution_count": 2,
   "id": "0bcf0c8a-e61a-435f-81dc-9b5d99382de4",
   "metadata": {},
   "outputs": [],
   "source": [
    "#Lecture des données\n",
    "tunisian_stock_market = 'Tunisian-Stock-Market.json'\n",
    "with open(tunisian_stock_market, 'r') as json_file:\n",
    "    \n",
    "    json_data = json.load(json_file)\n",
    "TunisianStockMarket = pd.DataFrame(json_data)"
   ]
  },
  {
   "cell_type": "code",
   "execution_count": 3,
   "id": "cb35b463-ff07-4ec9-96c2-0fec6c2d4d7a",
   "metadata": {},
   "outputs": [],
   "source": [
    "#Choix d'une seule action(BNA dans notre cas)\n",
    "TunisianStockMarket['Date'] = pd.to_datetime(TunisianStockMarket['Date'])\n",
    "bna_data = TunisianStockMarket[TunisianStockMarket['Stock_name'] == 'BNA']"
   ]
  },
  {
   "cell_type": "code",
   "execution_count": 4,
   "id": "0b05c453-8760-43e5-b51c-9a0756b19ea6",
   "metadata": {},
   "outputs": [
    {
     "name": "stdout",
     "output_type": "stream",
     "text": [
      "             Date  Adj_Close  Adj_low  Adj_High         Volume\n",
      "62     2021-11-04      7.320    7.220     7.320    6137.930176\n",
      "141    2021-11-03      7.320    7.100     7.320   34433.000000\n",
      "220    2021-11-02      7.310    7.200     7.320   24964.289062\n",
      "299    2021-11-01      7.320    7.200     7.340    5781.819824\n",
      "378    2021-10-29      7.340    7.300     7.340    6610.660156\n",
      "...           ...        ...      ...       ...            ...\n",
      "198646 2011-01-07     11.305   11.210    11.320   52695.449219\n",
      "198702 2011-01-06     11.283   11.173    11.393   43161.000000\n",
      "198758 2011-01-05     11.349   10.989    11.349   86125.226562\n",
      "198814 2011-01-04     11.129   10.952    11.129  105979.023438\n",
      "198870 2011-01-03     11.173   10.952    11.298    1721.199951\n",
      "\n",
      "[2689 rows x 5 columns]\n"
     ]
    }
   ],
   "source": [
    "#Filtrage des colonnes non utile\n",
    "columnsToExclude = ['Code_isin','Stock_name']\n",
    "TunisianStockMarketFiltred = bna_data.drop(columns=columnsToExclude)\n",
    "print(TunisianStockMarketFiltred)"
   ]
  },
  {
   "cell_type": "code",
   "execution_count": 5,
   "id": "3f0ae2e3-f7f0-49ee-a9cc-6b770f48b38a",
   "metadata": {},
   "outputs": [],
   "source": [
    "import datetime\n",
    "def str_to_datetime(s):\n",
    "    split = s.split('-')\n",
    "    year , month , day = int(split[0]) , int(split[1]) , int(split[2])\n",
    "    return datetime.datetime(year=year , month=month , day=day)"
   ]
  },
  {
   "cell_type": "code",
   "execution_count": 6,
   "id": "ae3981b5-880a-4f39-9e30-efec9de5bb49",
   "metadata": {},
   "outputs": [
    {
     "data": {
      "text/html": [
       "<div>\n",
       "<style scoped>\n",
       "    .dataframe tbody tr th:only-of-type {\n",
       "        vertical-align: middle;\n",
       "    }\n",
       "\n",
       "    .dataframe tbody tr th {\n",
       "        vertical-align: top;\n",
       "    }\n",
       "\n",
       "    .dataframe thead th {\n",
       "        text-align: right;\n",
       "    }\n",
       "</style>\n",
       "<table border=\"1\" class=\"dataframe\">\n",
       "  <thead>\n",
       "    <tr style=\"text-align: right;\">\n",
       "      <th></th>\n",
       "      <th>Adj_Close</th>\n",
       "      <th>Adj_low</th>\n",
       "      <th>Adj_High</th>\n",
       "      <th>Volume</th>\n",
       "    </tr>\n",
       "    <tr>\n",
       "      <th>Date</th>\n",
       "      <th></th>\n",
       "      <th></th>\n",
       "      <th></th>\n",
       "      <th></th>\n",
       "    </tr>\n",
       "  </thead>\n",
       "  <tbody>\n",
       "    <tr>\n",
       "      <th>2021-11-04</th>\n",
       "      <td>7.320</td>\n",
       "      <td>7.220</td>\n",
       "      <td>7.320</td>\n",
       "      <td>6137.930176</td>\n",
       "    </tr>\n",
       "    <tr>\n",
       "      <th>2021-11-03</th>\n",
       "      <td>7.320</td>\n",
       "      <td>7.100</td>\n",
       "      <td>7.320</td>\n",
       "      <td>34433.000000</td>\n",
       "    </tr>\n",
       "    <tr>\n",
       "      <th>2021-11-02</th>\n",
       "      <td>7.310</td>\n",
       "      <td>7.200</td>\n",
       "      <td>7.320</td>\n",
       "      <td>24964.289062</td>\n",
       "    </tr>\n",
       "    <tr>\n",
       "      <th>2021-11-01</th>\n",
       "      <td>7.320</td>\n",
       "      <td>7.200</td>\n",
       "      <td>7.340</td>\n",
       "      <td>5781.819824</td>\n",
       "    </tr>\n",
       "    <tr>\n",
       "      <th>2021-10-29</th>\n",
       "      <td>7.340</td>\n",
       "      <td>7.300</td>\n",
       "      <td>7.340</td>\n",
       "      <td>6610.660156</td>\n",
       "    </tr>\n",
       "    <tr>\n",
       "      <th>...</th>\n",
       "      <td>...</td>\n",
       "      <td>...</td>\n",
       "      <td>...</td>\n",
       "      <td>...</td>\n",
       "    </tr>\n",
       "    <tr>\n",
       "      <th>2011-01-07</th>\n",
       "      <td>11.305</td>\n",
       "      <td>11.210</td>\n",
       "      <td>11.320</td>\n",
       "      <td>52695.449219</td>\n",
       "    </tr>\n",
       "    <tr>\n",
       "      <th>2011-01-06</th>\n",
       "      <td>11.283</td>\n",
       "      <td>11.173</td>\n",
       "      <td>11.393</td>\n",
       "      <td>43161.000000</td>\n",
       "    </tr>\n",
       "    <tr>\n",
       "      <th>2011-01-05</th>\n",
       "      <td>11.349</td>\n",
       "      <td>10.989</td>\n",
       "      <td>11.349</td>\n",
       "      <td>86125.226562</td>\n",
       "    </tr>\n",
       "    <tr>\n",
       "      <th>2011-01-04</th>\n",
       "      <td>11.129</td>\n",
       "      <td>10.952</td>\n",
       "      <td>11.129</td>\n",
       "      <td>105979.023438</td>\n",
       "    </tr>\n",
       "    <tr>\n",
       "      <th>2011-01-03</th>\n",
       "      <td>11.173</td>\n",
       "      <td>10.952</td>\n",
       "      <td>11.298</td>\n",
       "      <td>1721.199951</td>\n",
       "    </tr>\n",
       "  </tbody>\n",
       "</table>\n",
       "<p>2689 rows × 4 columns</p>\n",
       "</div>"
      ],
      "text/plain": [
       "            Adj_Close  Adj_low  Adj_High         Volume\n",
       "Date                                                   \n",
       "2021-11-04      7.320    7.220     7.320    6137.930176\n",
       "2021-11-03      7.320    7.100     7.320   34433.000000\n",
       "2021-11-02      7.310    7.200     7.320   24964.289062\n",
       "2021-11-01      7.320    7.200     7.340    5781.819824\n",
       "2021-10-29      7.340    7.300     7.340    6610.660156\n",
       "...               ...      ...       ...            ...\n",
       "2011-01-07     11.305   11.210    11.320   52695.449219\n",
       "2011-01-06     11.283   11.173    11.393   43161.000000\n",
       "2011-01-05     11.349   10.989    11.349   86125.226562\n",
       "2011-01-04     11.129   10.952    11.129  105979.023438\n",
       "2011-01-03     11.173   10.952    11.298    1721.199951\n",
       "\n",
       "[2689 rows x 4 columns]"
      ]
     },
     "execution_count": 6,
     "metadata": {},
     "output_type": "execute_result"
    }
   ],
   "source": [
    "TunisianStockMarketFiltred.index = TunisianStockMarketFiltred.pop('Date')\n",
    "TunisianStockMarketFiltred"
   ]
  },
  {
   "cell_type": "code",
   "execution_count": 8,
   "id": "25eda64c-87bc-42c8-96d1-30eb481a3398",
   "metadata": {},
   "outputs": [
    {
     "data": {
      "text/plain": [
       "[<matplotlib.lines.Line2D at 0x240544eeb40>]"
      ]
     },
     "execution_count": 8,
     "metadata": {},
     "output_type": "execute_result"
    },
    {
     "data": {
      "image/png": "[encoded data removed]",
      "text/plain": [
       "<Figure size 640x480 with 1 Axes>"
      ]
     },
     "metadata": {},
     "output_type": "display_data"
    }
   ],
   "source": [
    "import matplotlib.pyplot as plt \n",
    "\n",
    "plt.plot(TunisianStockMarketFiltred.index , TunisianStockMarketFiltred['Adj_Close'])"
   ]
  }
 ],
 "metadata": {
  "kernelspec": {
   "display_name": "Python 3 (ipykernel)",
   "language": "python",
   "name": "python3"
  },
  "language_info": {
   "codemirror_mode": {
    "name": "ipython",
    "version": 3
   },
   "file_extension": ".py",
   "mimetype": "text/x-python",
   "name": "python",
   "nbconvert_exporter": "python",
   "pygments_lexer": "ipython3",
   "version": "3.12.0"
  }
 },
 "nbformat": 4,
 "nbformat_minor": 5
}
